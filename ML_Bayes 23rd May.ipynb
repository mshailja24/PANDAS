{
 "cells": [
  {
   "cell_type": "code",
   "execution_count": null,
   "id": "f9ac4e53",
   "metadata": {},
   "outputs": [],
   "source": [
    "import pandas as pd\n",
    "from skleaern.datasets import load_iris\n",
    "import seaborn as sb\n",
    "from sklearn.model_selection import train_test_split\n",
    "#appying Naive Bayes classiffier by calling MultinominalNB\n",
    "from sklearn.naive_bayes import MultinominalNB"
   ]
  },
  {
   "cell_type": "code",
   "execution_count": 1,
   "id": "21aa5f59",
   "metadata": {},
   "outputs": [],
   "source": [
    "from sklearn.neighbors import KNeighborsClassifier"
   ]
  },
  {
   "cell_type": "code",
   "execution_count": null,
   "id": "bfa764ff",
   "metadata": {},
   "outputs": [],
   "source": [
    "knn=KNeighborsClassifier(n_neighbors=5)\n",
    "knn.fit(x_train,y_tarin)"
   ]
  }
 ],
 "metadata": {
  "kernelspec": {
   "display_name": "Python 3 (ipykernel)",
   "language": "python",
   "name": "python3"
  },
  "language_info": {
   "codemirror_mode": {
    "name": "ipython",
    "version": 3
   },
   "file_extension": ".py",
   "mimetype": "text/x-python",
   "name": "python",
   "nbconvert_exporter": "python",
   "pygments_lexer": "ipython3",
   "version": "3.9.7"
  }
 },
 "nbformat": 4,
 "nbformat_minor": 5
}
